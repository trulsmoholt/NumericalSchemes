{
 "cells": [
  {
   "cell_type": "markdown",
   "metadata": {},
   "source": [
    "We solve the parabolic equation:\n",
    "<ul>\n",
    "    <li>$ \\frac{\\partial h}{\\partial t} - k\\frac{\\partial^2 h}{\\partial x^2} = \\nu$,  $\\forall x \\in (0,1)$,  $t>0$\n",
    "    <li>$h|_{t=0}=0$\n",
    "    <li>$h|_{x=0}=0$\n",
    "    <li>$h|_{x=1}=0$\n",
    "</ul>"
   ]
  },
  {
   "cell_type": "code",
   "execution_count": 291,
   "metadata": {},
   "outputs": [],
   "source": [
    "import numpy as np\n",
    "import matplotlib.pyplot as plt\n",
    "import math\n",
    "import sympy as sym"
   ]
  },
  {
   "cell_type": "code",
   "execution_count": 292,
   "metadata": {},
   "outputs": [],
   "source": [
    "x_0 = 0\n",
    "x_n = 1\n",
    "T = 1"
   ]
  },
  {
   "cell_type": "code",
   "execution_count": 366,
   "metadata": {},
   "outputs": [],
   "source": [
    "n = 80 #timesteps\n",
    "m = 40 #spacesteps\n",
    "nodes_space = np.linspace(x_0,x_n,m)\n",
    "nodes_time = np.linspace(0,T,n)\n",
    "h = nodes_space[1]-nodes_space[0]\n",
    "k = nodes_time[1]-nodes_time[0]\n"
   ]
  },
  {
   "cell_type": "code",
   "execution_count": 367,
   "metadata": {},
   "outputs": [],
   "source": [
    "K = 2\n",
    "x = sym.symbols('x')\n",
    "t = sym.symbols('t')\n",
    "u_fabric = x*(1-x)*t\n",
    "source = x*(1-x) + 2*K*t\n",
    "source_nodes = np.zeros((m,n))\n",
    "u_fabric_nodes = np.zeros((m,n))\n",
    "for j in range(n):\n",
    "    for i in range(m):\n",
    "        u_fabric_nodes[i,j] = u_fabric.subs([(x,nodes_space[i]),(t,nodes_time[j])])\n",
    "        source_nodes[i,j] = source.subs([(x,nodes_space[i]),(t,nodes_time[j])])"
   ]
  },
  {
   "cell_type": "code",
   "execution_count": 368,
   "metadata": {},
   "outputs": [],
   "source": [
    "A = -(2*np.eye(m)-np.diag(np.ones(m-1),k=1)-np.diag(np.ones(m-1),k=-1))\n",
    "A[0,:] = np.zeros((1,m))\n",
    "A[m-1,:] = np.zeros((1,m))\n",
    "A[0,0]=1\n",
    "A[m-1,m-1]=1"
   ]
  },
  {
   "cell_type": "code",
   "execution_count": 369,
   "metadata": {},
   "outputs": [
    {
     "data": {
      "image/png": "[encoded data removed]",
      "text/plain": [
       "<Figure size 432x288 with 1 Axes>"
      ]
     },
     "metadata": {
      "needs_background": "light"
     },
     "output_type": "display_data"
    }
   ],
   "source": [
    "u = u_fabric_nodes[:,0]\n",
    "for i in range(n):\n",
    "    lhs = np.eye(m)*1/k-K/h**2*A\n",
    "    rhs = source_nodes[:,i]+np.ones(m)*u/k\n",
    "    u = np.linalg.solve(lhs,rhs)\n",
    "    u[0] = u_0\n",
    "    u[m-1] = u_n\n",
    "\n",
    "plt.plot(nodes_space,u,'*')\n",
    "plt.plot(nodes_space,u_fabric_nodes[:,n-1])\n",
    "plt.show()"
   ]
  },
  {
   "cell_type": "code",
   "execution_count": 370,
   "metadata": {},
   "outputs": [
    {
     "name": "stdout",
     "output_type": "stream",
     "text": [
      "1.6277501696214095e-06\n"
     ]
    }
   ],
   "source": [
    "error = np.abs(u_fabric_nodes[:,n-1]-u)\n",
    "L2error = h*np.dot(error,error)\n",
    "print(L2error)\n",
    "\n"
   ]
  },
  {
   "cell_type": "markdown",
   "metadata": {},
   "source": [
    "<h3>Convergence Results </h3>\n",
    "\n",
    "<h6>Decreasing space step</h6>\n",
    "\n",
    "| Stepsize in space, h | stepsize in time k   |     L2error |\n",
    "|----------------------|----------------------|-------------|\n",
    "|                 1/4  |                1/1000|  1.1531e-05 |\n",
    "|                 1/8  |                1/1000|  1.1531e-05 |\n",
    "|                 1/16 |                1/1000|  5.7786e-05 |\n",
    "\n",
    "<h6>Decreasing time step</h6>\n",
    "\n",
    "| Stepsize in space, h | stepsize in time k   |     L2error |\n",
    "|----------------------|----------------------|-------------|\n",
    "|                1/1000|                1/4   |  2.0840e-11 |\n",
    "|                1/1000|                1/8   |  2.7065e-12 |\n",
    "|                1/1000|                1/1000|  3.6404e-12 |\n"
   ]
  }
 ],
 "metadata": {
  "kernelspec": {
   "display_name": "Python 3",
   "language": "python",
   "name": "python3"
  },
  "language_info": {
   "codemirror_mode": {
    "name": "ipython",
    "version": 3
   },
   "file_extension": ".py",
   "mimetype": "text/x-python",
   "name": "python",
   "nbconvert_exporter": "python",
   "pygments_lexer": "ipython3",
   "version": "3.7.6"
  }
 },
 "nbformat": 4,
 "nbformat_minor": 4
}
